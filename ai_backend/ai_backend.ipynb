{
  "nbformat": 4,
  "nbformat_minor": 0,
  "metadata": {
    "colab": {
      "provenance": []
    },
    "kernelspec": {
      "name": "python3",
      "display_name": "Python 3"
    },
    "language_info": {
      "name": "python"
    }
  },
  "cells": [
    {
      "cell_type": "code",
      "execution_count": 3,
      "metadata": {
        "id": "w2JKIuiwUvyR"
      },
      "outputs": [],
      "source": [
        "# Versi yang lebih ringkas, tanpa paket 'utils' yang tidak kita gunakan\n",
        "!pip install flask pyngrok \"langchain_community<0.3.0\" replicate flask-cors --quiet"
      ]
    },
    {
      "cell_type": "code",
      "source": [
        "# SEL 2 (VERSI LENGKAP DENGAN AUTHTOKEN)\n",
        "\n",
        "import os\n",
        "from flask import Flask, request, jsonify\n",
        "from flask_cors import CORS\n",
        "from pyngrok import ngrok\n",
        "from google.colab import userdata\n",
        "\n",
        "# Mengambil kunci API REPLICATE dari Colab Secrets\n",
        "try:\n",
        "    os.environ['REPLICATE_API_TOKEN'] = userdata.get('REPLICATE_API_TOKEN')\n",
        "    print(\"✅ Kunci API Replicate berhasil diambil dari Secrets.\")\n",
        "except Exception as e:\n",
        "    print(f\"🛑 Gagal mengambil kunci API Replicate. Pastikan secret 'REPLICATE_API_TOKEN' sudah diatur.\")\n",
        "\n",
        "# Mengambil dan mengatur Authtoken NGROK dari Colab Secrets\n",
        "try:\n",
        "    NGROK_AUTHTOKEN = userdata.get('NGROK_AUTHTOKEN')\n",
        "    ngrok.set_auth_token(NGROK_AUTHTOKEN)\n",
        "    print(\"✅ Authtoken ngrok berhasil diatur dari Secrets.\")\n",
        "except Exception as e:\n",
        "    print(\"⚠️ Authtoken ngrok tidak ditemukan di Secrets. Anda bisa menambahkannya untuk koneksi yang lebih stabil.\")"
      ],
      "metadata": {
        "colab": {
          "base_uri": "https://localhost:8080/"
        },
        "id": "3VdUzhVGWs3G",
        "outputId": "e1bb7247-740b-4274-ae4c-099ea10d51db"
      },
      "execution_count": 10,
      "outputs": [
        {
          "output_type": "stream",
          "name": "stdout",
          "text": [
            "✅ Kunci API Replicate berhasil diambil dari Secrets.\n",
            "✅ Authtoken ngrok berhasil diatur dari Secrets.\n"
          ]
        }
      ]
    },
    {
      "cell_type": "code",
      "source": [
        "# Sel 3: Inisialisasi Model AI\n",
        "from langchain_community.llms import Replicate\n",
        "\n",
        "try:\n",
        "    model = Replicate(\n",
        "        model=\"ibm-granite/granite-3.3-8b-instruct\",\n",
        "        replicate_api_token=os.environ.get('REPLICATE_API_TOKEN'),\n",
        "        model_kwargs={\"max_tokens\": 2048, \"temperature\": 0.2, \"stop_sequences\": [\"\\n\\n\"]}\n",
        "    )\n",
        "    print(\"✅ Model AI berhasil diinisialisasi. Koneksi ke Replicate berhasil!\")\n",
        "except Exception as e:\n",
        "    print(f\"🛑 Gagal inisialisasi model: {e}\")\n",
        "    print(\"Error ini biasanya berarti REPLICATE_API_TOKEN Anda tidak valid atau salah.\")"
      ],
      "metadata": {
        "colab": {
          "base_uri": "https://localhost:8080/"
        },
        "id": "LArSaldZXJDK",
        "outputId": "ae501393-eade-4bcb-9c30-5920712f7597"
      },
      "execution_count": 5,
      "outputs": [
        {
          "output_type": "stream",
          "name": "stdout",
          "text": [
            "✅ Model AI berhasil diinisialisasi. Koneksi ke Replicate berhasil!\n"
          ]
        }
      ]
    },
    {
      "cell_type": "code",
      "source": [
        "# Sel 4: Menyiapkan \"Contekan\" dan Fungsi Prompt\n",
        "\n",
        "# !!! ISI BAGIAN INI DENGAN CONTOH-CONTOH ANDA !!!\n",
        "# Pastikan formatnya adalah Python Dictionary\n",
        "akcayaPhotoExamples = [\n",
        "  {\n",
        "    \"question\": \"Buatkan komponen Header untuk website portofolio fotografi 'Akcaya Photo' dengan navigasi Home, Galeri, dan Kontak.\",\n",
        "    \"context\": \"Header harus memiliki latar belakang gelap, logo di kiri, dan menu navigasi di kanan.\",\n",
        "    \"output\": \"\"\"import React from 'react';\n",
        "\n",
        "const Header = () => {\n",
        "  return (\n",
        "    <header className=\"bg-gray-900 text-white p-4 shadow-md\">\n",
        "      <div className=\"container mx-auto flex justify-between items-center\">\n",
        "        <h1 className=\"text-2xl font-bold tracking-wider\">AKCAYA PHOTO</h1>\n",
        "        <nav>\n",
        "          <ul className=\"flex space-x-6\">\n",
        "            <li><a href=\"#\" className=\"hover:text-blue-400 transition-colors\">Home</a></li>\n",
        "            <li><a href=\"#gallery\" className=\"hover:text-blue-400 transition-colors\">Galeri</a></li>\n",
        "            <li><a href=\"#contact\" className=\"hover:text-blue-400 transition-colors\">Kontak</a></li>\n",
        "          </ul>\n",
        "        </nav>\n",
        "      </div>\n",
        "    </header>\n",
        "  );\n",
        "};\n",
        "\n",
        "export default Header;\"\"\"\n",
        "  },\n",
        "  # Tambahkan contoh-contoh lain di sini...\n",
        "  # { \"question\": \"...\", \"context\": \"...\", \"output\": \"\"\"...\"\"\" },\n",
        "]\n",
        "\n",
        "def create_react_prompt(question, examples):\n",
        "    formatted_examples = \"\\n\\n\".join(\n",
        "        f\"\"\"\n",
        "        Example {i+1}:\n",
        "        User Question: {example['question']}\n",
        "        Context: {example['context']}\n",
        "        Model Output: {example['output']}\n",
        "        \"\"\"\n",
        "        for i, example in enumerate(examples)\n",
        "    )\n",
        "    prompt = f\"\"\"You are an expert React developer specializing in Tailwind CSS. Your task is to generate a complete, copy-pasteable React functional component as a single JSX file. Here are some examples of your high-quality work:\n",
        "    {formatted_examples}\n",
        "\n",
        "    Now, based on the user's request, generate the component. Ensure the code is clean, well-formatted, and uses best practices.\n",
        "\n",
        "    User Question: {question}\n",
        "    Output only the JSX code for the component. Do not add any explanation or text besides the code.\"\"\"\n",
        "    return prompt\n",
        "\n",
        "print(\"✅ Fungsi prompt dan data contoh berhasil dimuat.\")"
      ],
      "metadata": {
        "colab": {
          "base_uri": "https://localhost:8080/"
        },
        "id": "qk0gtcKyXP_U",
        "outputId": "1c642cee-096b-4c5b-f805-bcfb190a0050"
      },
      "execution_count": 6,
      "outputs": [
        {
          "output_type": "stream",
          "name": "stdout",
          "text": [
            "✅ Fungsi prompt dan data contoh berhasil dimuat.\n"
          ]
        }
      ]
    },
    {
      "cell_type": "code",
      "source": [
        "# Sel 5: Membuat Web Server (API Endpoint)\n",
        "\n",
        "app = Flask(__name__)\n",
        "CORS(app) # Mengizinkan akses dari React App Anda\n",
        "\n",
        "@app.route('/generate-code', methods=['POST'])\n",
        "def generate_code_endpoint():\n",
        "    try:\n",
        "        data = request.get_json()\n",
        "        if not data or 'question' not in data:\n",
        "            return jsonify({\"error\": \"Permintaan tidak valid, 'question' tidak ditemukan.\"}), 400\n",
        "\n",
        "        user_question = data['question']\n",
        "\n",
        "        prompt_text = create_react_prompt(user_question, akcayaPhotoExamples)\n",
        "        generated_code = model.invoke(prompt_text)\n",
        "\n",
        "        return jsonify({\"generated_code\": generated_code})\n",
        "\n",
        "    except Exception as e:\n",
        "        print(f\"Error di dalam endpoint: {e}\")\n",
        "        return jsonify({\"error\": str(e)}), 500\n",
        "\n",
        "print(\"✅ Logika server API berhasil didefinisikan.\")"
      ],
      "metadata": {
        "colab": {
          "base_uri": "https://localhost:8080/"
        },
        "id": "N7vVcVHEXQwu",
        "outputId": "2ea12c94-12d5-4568-d378-8a8eb96cb9de"
      },
      "execution_count": 7,
      "outputs": [
        {
          "output_type": "stream",
          "name": "stdout",
          "text": [
            "✅ Logika server API berhasil didefinisikan.\n"
          ]
        }
      ]
    },
    {
      "cell_type": "code",
      "source": [
        "# Sel 6: Menjalankan Server dengan ngrok!\n",
        "\n",
        "# Hentikan proses ngrok sebelumnya jika ada\n",
        "ngrok.kill()\n",
        "\n",
        "# Jalankan server di port 5000 dan buat URL publik\n",
        "public_url = ngrok.connect(5000)\n",
        "print(\"🚀 Server Anda sekarang LIVE dan bisa diakses di URL ini:\")\n",
        "print(public_url)\n",
        "print(\"----------------------------------------------------\")\n",
        "print(\"Jangan tutup sel ini. Biarkan tetap berjalan untuk menjaga server tetap hidup.\")\n",
        "\n",
        "# Jalankan aplikasi Flask\n",
        "app.run(port=5000)"
      ],
      "metadata": {
        "colab": {
          "base_uri": "https://localhost:8080/"
        },
        "id": "bMcK2M1AXS_y",
        "outputId": "4077388f-89af-46c9-a2f6-fd71ada4f9ed"
      },
      "execution_count": 8,
      "outputs": [
        {
          "output_type": "stream",
          "name": "stdout",
          "text": [
            "🚀 Server Anda sekarang LIVE dan bisa diakses di URL ini:\n",
            "NgrokTunnel: \"https://01b7-34-106-222-229.ngrok-free.app\" -> \"http://localhost:5000\"\n",
            "----------------------------------------------------\n",
            "Jangan tutup sel ini. Biarkan tetap berjalan untuk menjaga server tetap hidup.\n",
            " * Serving Flask app '__main__'\n",
            " * Debug mode: off\n"
          ]
        },
        {
          "output_type": "stream",
          "name": "stderr",
          "text": [
            "INFO:werkzeug:\u001b[31m\u001b[1mWARNING: This is a development server. Do not use it in a production deployment. Use a production WSGI server instead.\u001b[0m\n",
            " * Running on http://127.0.0.1:5000\n",
            "INFO:werkzeug:\u001b[33mPress CTRL+C to quit\u001b[0m\n",
            "WARNING:pyngrok.process.ngrok:t=2025-06-28T02:30:06+0000 lvl=warn msg=\"failed to check for update\" obj=updater err=\"Post \\\"https://update.equinox.io/check\\\": context deadline exceeded\"\n",
            "INFO:werkzeug:127.0.0.1 - - [28/Jun/2025 02:30:21] \"\u001b[33mGET / HTTP/1.1\u001b[0m\" 404 -\n",
            "INFO:werkzeug:127.0.0.1 - - [28/Jun/2025 02:30:21] \"\u001b[33mGET /favicon.ico HTTP/1.1\u001b[0m\" 404 -\n"
          ]
        }
      ]
    }
  ]
}